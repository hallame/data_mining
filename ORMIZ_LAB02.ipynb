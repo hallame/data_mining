{
 "cells": [
  {
   "cell_type": "markdown",
   "metadata": {},
   "source": [
    "### РОССИЙСКИЙ УНИВЕРСИТЕТ ДРУЖБЫ НАРОДОВ"
   ]
  },
  {
   "cell_type": "markdown",
   "metadata": {},
   "source": [
    "#### Факультет физико-математических и естественных наук  \n",
    "#### Кафедра математического моделирования и искусственного интеллекта "
   ]
  },
  {
   "cell_type": "markdown",
   "metadata": {},
   "source": [
    "## ОТЧЕТ ПО ЛАБОРАТОРНОЙ РАБОТЕ № 2"
   ]
  },
  {
   "cell_type": "markdown",
   "metadata": {},
   "source": [
    "#### Дисциплина: Интеллектуальный анализ данных"
   ]
  },
  {
   "cell_type": "markdown",
   "metadata": {},
   "source": [
    "##### Студент:  Алламе Ормиз\n",
    "##### Группа:  НФИбд-01-21"
   ]
  },
  {
   "cell_type": "markdown",
   "metadata": {},
   "source": [
    "## Москва 2024\n",
    "***"
   ]
  },
  {
   "cell_type": "markdown",
   "metadata": {},
   "source": [
    "### Вариант № 6"
   ]
  },
  {
   "cell_type": "markdown",
   "metadata": {},
   "source": [
    "Для закрепленного за Вами варианта лабораторной работы:\n",
    "\n",
    "1. При помощи модуля sqlite3 откройте базу данных Instacart в файле instacart.db. "
   ]
  },
  {
   "cell_type": "code",
   "execution_count": 1,
   "metadata": {},
   "outputs": [
    {
     "name": "stdout",
     "output_type": "stream",
     "text": [
      "База данных успешно открыта\n"
     ]
    }
   ],
   "source": [
    "import sqlite3\n",
    "\n",
    "db_path = 'instacart.db'\n",
    "\n",
    "conn = sqlite3.connect(db_path)\n",
    "\n",
    "print(\"База данных успешно открыта\")"
   ]
  },
  {
   "cell_type": "markdown",
   "metadata": {},
   "source": [
    "2. Загрузите таблицы departments и products в датафреймы Pandas. При помощи запроса SELECT извлеките из таблицы order_products__train записи, соответствующие указанным в индивидуальном задании дню недели (поле order_dow таблицы orders) и коду департамента (поле department_id таблицы products) и загрузите в датафрейм Pandas. Определите количество строк в полученном датафрейме, количество транзакций (покупок) и определите количество товаров (столбец product_id) в транзакциях датафрейма. "
   ]
  },
  {
   "cell_type": "code",
   "execution_count": 2,
   "metadata": {},
   "outputs": [
    {
     "data": {
      "text/html": [
       "<div>\n",
       "<style scoped>\n",
       "    .dataframe tbody tr th:only-of-type {\n",
       "        vertical-align: middle;\n",
       "    }\n",
       "\n",
       "    .dataframe tbody tr th {\n",
       "        vertical-align: top;\n",
       "    }\n",
       "\n",
       "    .dataframe thead th {\n",
       "        text-align: right;\n",
       "    }\n",
       "</style>\n",
       "<table border=\"1\" class=\"dataframe\">\n",
       "  <thead>\n",
       "    <tr style=\"text-align: right;\">\n",
       "      <th></th>\n",
       "      <th>order_id</th>\n",
       "      <th>product_id</th>\n",
       "      <th>add_to_cart_order</th>\n",
       "      <th>reordered</th>\n",
       "      <th>product_name</th>\n",
       "    </tr>\n",
       "  </thead>\n",
       "  <tbody>\n",
       "    <tr>\n",
       "      <th>0</th>\n",
       "      <td>318441</td>\n",
       "      <td>40102</td>\n",
       "      <td>10</td>\n",
       "      <td>1</td>\n",
       "      <td>Nutrisca Chicken And Chickpea Recipe Dog Food</td>\n",
       "    </tr>\n",
       "    <tr>\n",
       "      <th>1</th>\n",
       "      <td>2133144</td>\n",
       "      <td>54</td>\n",
       "      <td>16</td>\n",
       "      <td>1</td>\n",
       "      <td>24/7 Performance Cat Litter</td>\n",
       "    </tr>\n",
       "    <tr>\n",
       "      <th>2</th>\n",
       "      <td>812040</td>\n",
       "      <td>7518</td>\n",
       "      <td>14</td>\n",
       "      <td>1</td>\n",
       "      <td>Chicken Flavored Bone 4 Inch Dog Chew</td>\n",
       "    </tr>\n",
       "    <tr>\n",
       "      <th>3</th>\n",
       "      <td>1307498</td>\n",
       "      <td>26893</td>\n",
       "      <td>11</td>\n",
       "      <td>0</td>\n",
       "      <td>Odor Shield Scented Scoopable Cat Litter</td>\n",
       "    </tr>\n",
       "    <tr>\n",
       "      <th>4</th>\n",
       "      <td>1307498</td>\n",
       "      <td>32005</td>\n",
       "      <td>12</td>\n",
       "      <td>0</td>\n",
       "      <td>Grilled Seafood Feast in Gravy Cat Food</td>\n",
       "    </tr>\n",
       "  </tbody>\n",
       "</table>\n",
       "</div>"
      ],
      "text/plain": [
       "  order_id product_id add_to_cart_order reordered  \\\n",
       "0   318441      40102                10         1   \n",
       "1  2133144         54                16         1   \n",
       "2   812040       7518                14         1   \n",
       "3  1307498      26893                11         0   \n",
       "4  1307498      32005                12         0   \n",
       "\n",
       "                                    product_name  \n",
       "0  Nutrisca Chicken And Chickpea Recipe Dog Food  \n",
       "1                    24/7 Performance Cat Litter  \n",
       "2          Chicken Flavored Bone 4 Inch Dog Chew  \n",
       "3       Odor Shield Scented Scoopable Cat Litter  \n",
       "4        Grilled Seafood Feast in Gravy Cat Food  "
      ]
     },
     "execution_count": 2,
     "metadata": {},
     "output_type": "execute_result"
    }
   ],
   "source": [
    "import pandas as pd\n",
    "\n",
    "departments_df = pd.read_sql_query(\"SELECT * FROM departments\", conn)\n",
    "products_df = pd.read_sql_query(\"SELECT * FROM products\", conn)\n",
    "\n",
    "a = 0\n",
    "b = 8\n",
    "\n",
    "query = '''\n",
    "    SELECT\n",
    "      opt.order_id, \n",
    "      opt.product_id, \n",
    "      add_to_cart_order, \n",
    "      reordered, \n",
    "      product_name\n",
    "    FROM order_products__train opt\n",
    "    JOIN orders o ON opt.order_id = o.order_id\n",
    "    JOIN products p ON opt.product_id = p.product_id\n",
    "    WHERE o.order_dow = ? AND p.department_id = ?\n",
    "'''\n",
    "\n",
    "df = pd.read_sql_query(query, conn, params=(a, b))\n",
    "df.head()"
   ]
  },
  {
   "cell_type": "code",
   "execution_count": 3,
   "metadata": {},
   "outputs": [
    {
     "name": "stdout",
     "output_type": "stream",
     "text": [
      "Количество строк: 888\n",
      "Количество уникальных транзакций: 551\n",
      "Количество уникальных товаров: 374\n"
     ]
    }
   ],
   "source": [
    "num_rows = len(df)\n",
    "num_transactions = df['order_id'].nunique()\n",
    "num_products = df['product_id'].nunique() \n",
    "\n",
    "print(f\"Количество строк: {num_rows}\")\n",
    "print(f\"Количество уникальных транзакций: {num_transactions}\")\n",
    "print(f\"Количество уникальных товаров: {num_products}\")"
   ]
  },
  {
   "cell_type": "markdown",
   "metadata": {},
   "source": [
    "3. Выполните к датафрейму запрос, указанный в индивидуальном задании."
   ]
  },
  {
   "cell_type": "code",
   "execution_count": 4,
   "metadata": {},
   "outputs": [
    {
     "name": "stdout",
     "output_type": "stream",
     "text": [
      "Список товаров, которые были приобретены ровно два раза:\n",
      "Index(['174 ; Dentastix&#174 ; Large', '6\\\" Free Ranger Bully Stix',\n",
      "       'Adult Dog Food', 'Beef Feast in Roasted Beef Flavor Gravy Cat Food',\n",
      "       'Beggin' Strips Bacon Flavor Dog Snacks',\n",
      "       'Beyond Grain Free Wild Salmon Recipe Wet Cat Food',\n",
      "       'Beyond Natural Cat Food Salmon & Whole Brown Rice Recipe',\n",
      "       'Buddy Biscuits Original Oven Baked Roasted Chicken Dog Treats',\n",
      "       'Chewy Chicken Flavor Dog Treats',\n",
      "       'Chicken & Brown Rice Premium Dog Food',\n",
      "       'Chicken & Vegetable Snack Sticks for Dogs',\n",
      "       'Chicken Flavored Bone 4 Inch Dog Chew', 'Chicken Jerky Dog Treats',\n",
      "       'Chicken Liver Paté Canned Cat Food',\n",
      "       'Chopped Blends With Beef, Carrots, Peas & Barley Dog Food',\n",
      "       'Chunky Turkey Feast Cat Food',\n",
      "       'Classic Tender Beef & Chicken Feast Cat Food',\n",
      "       'Clump & Seal Multi-Cat Cat Litter',\n",
      "       'Delights With Cheddar Grilled Tuna & Cheddar Cheese Feast In Gravy',\n",
      "       'Dentastix Fresh, Large',\n",
      "       'Dog Chew, USA Rawhide, Chicken Flavored, 7 Inch',\n",
      "       'Dog Food With Beef in Meaty Juices', 'Dog Pads',\n",
      "       'Dog Treats, Lamb Formula', 'Dog Treats, Premium, Chicken, Small Size',\n",
      "       'Fancy Feast Trout Feast Flaked Wet Cat Food',\n",
      "       'Florentine Collection Cat Food', 'Fresh Small-Medium Dentastix',\n",
      "       'Good Budddy, Jerky Strips, Real Chicken Recipe',\n",
      "       'Grain Free Ocean Whitefish & Spinach Cat Food',\n",
      "       'Gravy Lovers Chicken Feast Can Cat Food',\n",
      "       'GravyBones - For Small Dogs Dog Biscuits',\n",
      "       'Grilled Salmon & Shrimp Feast in Gravy Cat Food',\n",
      "       'Grilled Salmon Feast in Gravy Cat Food', 'Hairball Formula Dry Cat',\n",
      "       'Happy Hips Grain Free Dog Food Chicken & Sweet Potato Stew Recipe',\n",
      "       'Healthy Smile Ridges Small/Medium Dental Dog Snacks',\n",
      "       'Hearty Beef Cat Treats', 'Heavy Duty Jumbo Litter Box Liners',\n",
      "       'Kittles Tuna & Cranberries Recipe Cat Treats',\n",
      "       'Liv A Littles Chicken Cat & Dog Treats',\n",
      "       'Liver & Chicken Dinner Classic Pate Cat Food',\n",
      "       'Meaty Bits Variety Pack Cat Food', 'Mini Chicken Dog Bones',\n",
      "       'More Flavors Assorted Dog Treats',\n",
      "       'Multiple Cat Clumping Formula Cat Litter',\n",
      "       'Odor Shield Scented Scoopable Cat Litter',\n",
      "       'Oh My Cod! Cod Pate and Vegetables Cat Food',\n",
      "       'Organic Chicken Flavor Dog Cookies',\n",
      "       'Organix Butcher & Bushel Chicken Wing & Thigh Grain Free Adult Dog Food',\n",
      "       'Organix Butcher & Bushel Grain-Free Turkey Dinner Canned Dog Food',\n",
      "       'Organix Grain Free Chicken Paté Cat Food', 'Originals Dog Food',\n",
      "       'Poultry Variety Pack Cat Food', 'Premium Dog Treats Chicken',\n",
      "       'Prepared Meals Beef & Chicken Medley Dog Food',\n",
      "       'Prepared Meals Savory Rice & Lamb Stew Dog Food',\n",
      "       'ProActive Health Adult Chicken Dry Dog Food',\n",
      "       'Purina Beyond Natural Cat Food Grain Free Ocean Whitefish and Egg Recipe',\n",
      "       'Purina Beyond Superfood Blend Dry Dog Food Salmon Egg & Pumpkin Recipe',\n",
      "       'Roasted Turkey Feast Cat Food', 'Salmon & Sole Feast Cat Food',\n",
      "       'Salmon Feast in Seared Salmon Flavor Gravy Cat Food',\n",
      "       'Savory Salmon Flavor Cat Treats', 'Seafood Favorites Variety Cat Food',\n",
      "       'Seafood Feast Variety Classic Wet Cat Food',\n",
      "       'Shredded Wild Salmon Fare Cat Food',\n",
      "       'Sliced Chicken Feast in Gravy Cat Food',\n",
      "       'Sliced Salmon Canned Catfood Entree',\n",
      "       'SmartBlend True Instinct with Turkey & Venison Adult Dog Food',\n",
      "       'Spots Stew Chicken Dry Dog Food', 'Stain & Odor Remover',\n",
      "       'Tuna & Crab Meat Entree in Gravy Cat Food',\n",
      "       'Tuna & Egg Flaked Cat Food', 'Turkey & Sweet Potato Dog Treats',\n",
      "       'Whiskas® Temptations® Seafood Medley Flavor Mega',\n",
      "       'Wild Salmon Florentine Cat Food',\n",
      "       'With Savory Chicken & Turkey Cat Food',\n",
      "       'smart Blend Chicken & Rice Formula Dry Dog Food'],\n",
      "      dtype='object', name='product_name')\n"
     ]
    }
   ],
   "source": [
    "purchased_twice = df.groupby('product_name').size()[df.groupby('product_name').size() == 2].index\n",
    "\n",
    "print(\"Список товаров, которые были приобретены ровно два раза:\")\n",
    "print(purchased_twice)"
   ]
  },
  {
   "cell_type": "markdown",
   "metadata": {},
   "source": [
    "4. Постройте транзакционную базу данных из полученного датафрейма, используя в качестве идентификатора транзакции столбец order_id, а в качестве названий товаров - поле product_name из датафрейма для таблицы products, соответствующее столбцу product_id. Найдите в транзакционной базе данных транзакцию с наибольшим количеством товаров и выведите ее на экран.  "
   ]
  },
  {
   "cell_type": "code",
   "execution_count": 5,
   "metadata": {},
   "outputs": [
    {
     "name": "stdout",
     "output_type": "stream",
     "text": [
      "Транзакции с наибольшим количеством товаров:\n",
      "    order_id                                       product_name\n",
      "466   506992  [Classic Tender Beef Feast Cat Food, Flaked Tu...\n"
     ]
    }
   ],
   "source": [
    "import pandas as pd\n",
    "\n",
    "transactions = df.groupby('order_id')['product_name'].apply(list).reset_index()\n",
    "\n",
    "transaction_counts = df.groupby('order_id')['product_name'].count()\n",
    "\n",
    "max_count = transaction_counts.max()\n",
    "\n",
    "max_transactions = transactions[transactions['order_id'].isin(transaction_counts[transaction_counts == max_count].index)]\n",
    "\n",
    "print(\"Транзакции с наибольшим количеством товаров:\")\n",
    "print(max_transactions)"
   ]
  },
  {
   "cell_type": "markdown",
   "metadata": {},
   "source": [
    "5. Постройте по транзакционной базе данных бинарную базу данных в формате датафрейма пакета mlxtend. По бинарной базе данных определите и выведите на экран три наиболее популярных товара и определите количество покупок (транзакций) этих товаров. "
   ]
  },
  {
   "cell_type": "code",
   "execution_count": 6,
   "metadata": {},
   "outputs": [
    {
     "name": "stdout",
     "output_type": "stream",
     "text": [
      "Три наиболее популярных товара и количество их покупок:\n",
      "Instant Action Cat Litter              23\n",
      "24/7 Performance Cat Litter            18\n",
      "Grain Free Chicken Formula Cat Food    17\n",
      "dtype: int64\n"
     ]
    }
   ],
   "source": [
    "import pandas as pd\n",
    "from mlxtend.preprocessing import TransactionEncoder\n",
    "\n",
    "te = TransactionEncoder()\n",
    "te_ary = te.fit(transactions['product_name']).transform(transactions['product_name'])\n",
    "df_binary = pd.DataFrame(te_ary, columns=te.columns_)\n",
    "\n",
    "item_counts = df_binary.sum().sort_values(ascending=False)\n",
    "\n",
    "top_3_items = item_counts.head(3)\n",
    "\n",
    "print(\"Три наиболее популярных товара и количество их покупок:\")\n",
    "print(top_3_items)"
   ]
  },
  {
   "cell_type": "markdown",
   "metadata": {},
   "source": [
    "6. При помощи указанного в индивидуальном задании метода построения популярных наборов предметов постройте и выведите на экран популярный набор предметов с (абсолютной) минимальной поддержкой не менее 3, имеющий максимальную длину. При отсутствии такого набора уменьшите поддержку до 2. В случае нехватки вычислительных ресурсов (слишком долгой работы программы) при построении популярного набора предметов сокращайте число записей в наборе данных (например, делая выборку половины записей набора). "
   ]
  },
  {
   "cell_type": "code",
   "execution_count": 7,
   "metadata": {},
   "outputs": [
    {
     "data": {
      "text/html": [
       "<div>\n",
       "<style scoped>\n",
       "    .dataframe tbody tr th:only-of-type {\n",
       "        vertical-align: middle;\n",
       "    }\n",
       "\n",
       "    .dataframe tbody tr th {\n",
       "        vertical-align: top;\n",
       "    }\n",
       "\n",
       "    .dataframe thead th {\n",
       "        text-align: right;\n",
       "    }\n",
       "</style>\n",
       "<table border=\"1\" class=\"dataframe\">\n",
       "  <thead>\n",
       "    <tr style=\"text-align: right;\">\n",
       "      <th></th>\n",
       "      <th>support</th>\n",
       "      <th>itemsets</th>\n",
       "    </tr>\n",
       "  </thead>\n",
       "  <tbody>\n",
       "    <tr>\n",
       "      <th>0</th>\n",
       "      <td>0.016334</td>\n",
       "      <td>(Snack Sticks Chicken &amp; Rice Recipe Dog Treats)</td>\n",
       "    </tr>\n",
       "    <tr>\n",
       "      <th>1</th>\n",
       "      <td>0.016334</td>\n",
       "      <td>(Classic Tender Beef Feast Cat Food)</td>\n",
       "    </tr>\n",
       "    <tr>\n",
       "      <th>2</th>\n",
       "      <td>0.007260</td>\n",
       "      <td>(Fancy Feast Wet Classic Turkey &amp; Giblets Feas...</td>\n",
       "    </tr>\n",
       "    <tr>\n",
       "      <th>3</th>\n",
       "      <td>0.007260</td>\n",
       "      <td>(Scented Multi-Cat Scoopable Cat Litter)</td>\n",
       "    </tr>\n",
       "    <tr>\n",
       "      <th>4</th>\n",
       "      <td>0.009074</td>\n",
       "      <td>(Dog Snacks, Medium)</td>\n",
       "    </tr>\n",
       "    <tr>\n",
       "      <th>...</th>\n",
       "      <td>...</td>\n",
       "      <td>...</td>\n",
       "    </tr>\n",
       "    <tr>\n",
       "      <th>116</th>\n",
       "      <td>0.005445</td>\n",
       "      <td>(Grain Free Turkey Formula Cat Food, Natural B...</td>\n",
       "    </tr>\n",
       "    <tr>\n",
       "      <th>117</th>\n",
       "      <td>0.005445</td>\n",
       "      <td>(Classic Tender Liver &amp; Chicken Feast Cat Food...</td>\n",
       "    </tr>\n",
       "    <tr>\n",
       "      <th>118</th>\n",
       "      <td>0.005445</td>\n",
       "      <td>(Classic Tender Liver &amp; Chicken Feast Cat Food...</td>\n",
       "    </tr>\n",
       "    <tr>\n",
       "      <th>119</th>\n",
       "      <td>0.005445</td>\n",
       "      <td>(Classic Tender Liver &amp; Chicken Feast Cat Food...</td>\n",
       "    </tr>\n",
       "    <tr>\n",
       "      <th>120</th>\n",
       "      <td>0.005445</td>\n",
       "      <td>(Chunky Beef with Vegetables &amp; Brown Rice Dog ...</td>\n",
       "    </tr>\n",
       "  </tbody>\n",
       "</table>\n",
       "<p>121 rows × 2 columns</p>\n",
       "</div>"
      ],
      "text/plain": [
       "      support                                           itemsets\n",
       "0    0.016334    (Snack Sticks Chicken & Rice Recipe Dog Treats)\n",
       "1    0.016334               (Classic Tender Beef Feast Cat Food)\n",
       "2    0.007260  (Fancy Feast Wet Classic Turkey & Giblets Feas...\n",
       "3    0.007260           (Scented Multi-Cat Scoopable Cat Litter)\n",
       "4    0.009074                               (Dog Snacks, Medium)\n",
       "..        ...                                                ...\n",
       "116  0.005445  (Grain Free Turkey Formula Cat Food, Natural B...\n",
       "117  0.005445  (Classic Tender Liver & Chicken Feast Cat Food...\n",
       "118  0.005445  (Classic Tender Liver & Chicken Feast Cat Food...\n",
       "119  0.005445  (Classic Tender Liver & Chicken Feast Cat Food...\n",
       "120  0.005445  (Chunky Beef with Vegetables & Brown Rice Dog ...\n",
       "\n",
       "[121 rows x 2 columns]"
      ]
     },
     "execution_count": 7,
     "metadata": {},
     "output_type": "execute_result"
    }
   ],
   "source": [
    "from mlxtend.frequent_patterns import fpgrowth\n",
    "\n",
    "itemsets = fpgrowth(df_binary, min_support=3/df_binary.shape[0],use_colnames=True)\n",
    "itemsets"
   ]
  },
  {
   "cell_type": "code",
   "execution_count": 8,
   "metadata": {},
   "outputs": [
    {
     "name": "stdout",
     "output_type": "stream",
     "text": [
      "      support                                           itemsets\n",
      "115  0.005445  (Grain Free Chicken Formula Cat Food, Grain Fr...\n"
     ]
    }
   ],
   "source": [
    "max_length = itemsets['itemsets'].apply(lambda x: len(x)).max()\n",
    "max_length_itemsets = itemsets[itemsets['itemsets'].apply(lambda x: len(x)) == max_length]\n",
    "\n",
    "print(max_length_itemsets)"
   ]
  },
  {
   "cell_type": "markdown",
   "metadata": {},
   "source": [
    "7. Используя пакет mlxtend или реализацию на Python, постройте набор ассоциативных правил для полученного популярного наборов предметов с уровнем достоверности (confidence) не ниже $0.6$. "
   ]
  },
  {
   "cell_type": "code",
   "execution_count": 9,
   "metadata": {},
   "outputs": [
    {
     "name": "stdout",
     "output_type": "stream",
     "text": [
      "Ассоциативные правила с уровнем достоверности не ниже 0.6:\n"
     ]
    },
    {
     "data": {
      "text/html": [
       "<div>\n",
       "<style scoped>\n",
       "    .dataframe tbody tr th:only-of-type {\n",
       "        vertical-align: middle;\n",
       "    }\n",
       "\n",
       "    .dataframe tbody tr th {\n",
       "        vertical-align: top;\n",
       "    }\n",
       "\n",
       "    .dataframe thead th {\n",
       "        text-align: right;\n",
       "    }\n",
       "</style>\n",
       "<table border=\"1\" class=\"dataframe\">\n",
       "  <thead>\n",
       "    <tr style=\"text-align: right;\">\n",
       "      <th></th>\n",
       "      <th>antecedents</th>\n",
       "      <th>consequents</th>\n",
       "      <th>antecedent support</th>\n",
       "      <th>consequent support</th>\n",
       "      <th>support</th>\n",
       "      <th>confidence</th>\n",
       "      <th>lift</th>\n",
       "      <th>leverage</th>\n",
       "      <th>conviction</th>\n",
       "      <th>zhangs_metric</th>\n",
       "    </tr>\n",
       "  </thead>\n",
       "  <tbody>\n",
       "    <tr>\n",
       "      <th>0</th>\n",
       "      <td>(Fancy Feast Wet Classic Turkey &amp; Giblets Feas...</td>\n",
       "      <td>(Classic Tender Beef Feast Cat Food)</td>\n",
       "      <td>0.007260</td>\n",
       "      <td>0.016334</td>\n",
       "      <td>0.005445</td>\n",
       "      <td>0.750000</td>\n",
       "      <td>45.916667</td>\n",
       "      <td>0.005326</td>\n",
       "      <td>3.934664</td>\n",
       "      <td>0.985375</td>\n",
       "    </tr>\n",
       "    <tr>\n",
       "      <th>1</th>\n",
       "      <td>(Grilled Turkey Feast in Gravy Cat Food)</td>\n",
       "      <td>(Grilled Chicken Feast in Gravy Cat Food)</td>\n",
       "      <td>0.009074</td>\n",
       "      <td>0.010889</td>\n",
       "      <td>0.007260</td>\n",
       "      <td>0.800000</td>\n",
       "      <td>73.466667</td>\n",
       "      <td>0.007161</td>\n",
       "      <td>4.945554</td>\n",
       "      <td>0.995421</td>\n",
       "    </tr>\n",
       "    <tr>\n",
       "      <th>2</th>\n",
       "      <td>(Grilled Chicken Feast in Gravy Cat Food)</td>\n",
       "      <td>(Grilled Turkey Feast in Gravy Cat Food)</td>\n",
       "      <td>0.010889</td>\n",
       "      <td>0.009074</td>\n",
       "      <td>0.007260</td>\n",
       "      <td>0.666667</td>\n",
       "      <td>73.466667</td>\n",
       "      <td>0.007161</td>\n",
       "      <td>2.972777</td>\n",
       "      <td>0.997248</td>\n",
       "    </tr>\n",
       "    <tr>\n",
       "      <th>3</th>\n",
       "      <td>(Grilled Turkey Feast in Gravy Cat Food)</td>\n",
       "      <td>(Fancy Feast Wet Classic Chicken Feast Cat Food)</td>\n",
       "      <td>0.009074</td>\n",
       "      <td>0.018149</td>\n",
       "      <td>0.005445</td>\n",
       "      <td>0.600000</td>\n",
       "      <td>33.060000</td>\n",
       "      <td>0.005280</td>\n",
       "      <td>2.454628</td>\n",
       "      <td>0.978632</td>\n",
       "    </tr>\n",
       "    <tr>\n",
       "      <th>4</th>\n",
       "      <td>(Grain Free Turkey Formula Cat Food)</td>\n",
       "      <td>(Grain Free Turkey &amp; Salmon Formula Cat Food)</td>\n",
       "      <td>0.014519</td>\n",
       "      <td>0.021779</td>\n",
       "      <td>0.009074</td>\n",
       "      <td>0.625000</td>\n",
       "      <td>28.697917</td>\n",
       "      <td>0.008758</td>\n",
       "      <td>2.608590</td>\n",
       "      <td>0.979374</td>\n",
       "    </tr>\n",
       "    <tr>\n",
       "      <th>5</th>\n",
       "      <td>(Grain Free Chicken Formula Cat Food, Grain Fr...</td>\n",
       "      <td>(Grain Free Turkey &amp; Salmon Formula Cat Food)</td>\n",
       "      <td>0.007260</td>\n",
       "      <td>0.021779</td>\n",
       "      <td>0.005445</td>\n",
       "      <td>0.750000</td>\n",
       "      <td>34.437500</td>\n",
       "      <td>0.005287</td>\n",
       "      <td>3.912886</td>\n",
       "      <td>0.978062</td>\n",
       "    </tr>\n",
       "    <tr>\n",
       "      <th>6</th>\n",
       "      <td>(Grain Free Chicken Formula Cat Food, Grain Fr...</td>\n",
       "      <td>(Grain Free Turkey Formula Cat Food)</td>\n",
       "      <td>0.009074</td>\n",
       "      <td>0.014519</td>\n",
       "      <td>0.005445</td>\n",
       "      <td>0.600000</td>\n",
       "      <td>41.325000</td>\n",
       "      <td>0.005313</td>\n",
       "      <td>2.463702</td>\n",
       "      <td>0.984737</td>\n",
       "    </tr>\n",
       "    <tr>\n",
       "      <th>7</th>\n",
       "      <td>(Grain Free Turkey Formula Cat Food, Grain Fre...</td>\n",
       "      <td>(Grain Free Chicken Formula Cat Food)</td>\n",
       "      <td>0.009074</td>\n",
       "      <td>0.030853</td>\n",
       "      <td>0.005445</td>\n",
       "      <td>0.600000</td>\n",
       "      <td>19.447059</td>\n",
       "      <td>0.005165</td>\n",
       "      <td>2.422868</td>\n",
       "      <td>0.957265</td>\n",
       "    </tr>\n",
       "    <tr>\n",
       "      <th>8</th>\n",
       "      <td>(Natural Beef &amp; Chicken Formula Food for Cats)</td>\n",
       "      <td>(Grain Free Turkey Formula Cat Food)</td>\n",
       "      <td>0.007260</td>\n",
       "      <td>0.014519</td>\n",
       "      <td>0.005445</td>\n",
       "      <td>0.750000</td>\n",
       "      <td>51.656250</td>\n",
       "      <td>0.005339</td>\n",
       "      <td>3.941924</td>\n",
       "      <td>0.987812</td>\n",
       "    </tr>\n",
       "    <tr>\n",
       "      <th>9</th>\n",
       "      <td>(Classic Ocean Whitefish &amp; Tuna Feast Cat Food)</td>\n",
       "      <td>(Classic Tender Liver &amp; Chicken Feast Cat Food)</td>\n",
       "      <td>0.007260</td>\n",
       "      <td>0.012704</td>\n",
       "      <td>0.005445</td>\n",
       "      <td>0.750000</td>\n",
       "      <td>59.035714</td>\n",
       "      <td>0.005352</td>\n",
       "      <td>3.949183</td>\n",
       "      <td>0.990250</td>\n",
       "    </tr>\n",
       "    <tr>\n",
       "      <th>10</th>\n",
       "      <td>(Chunky Beef with Vegetables &amp; Brown Rice Dog ...</td>\n",
       "      <td>(Select Tender Chicken with Vegetables &amp; Brown...</td>\n",
       "      <td>0.007260</td>\n",
       "      <td>0.007260</td>\n",
       "      <td>0.005445</td>\n",
       "      <td>0.750000</td>\n",
       "      <td>103.312500</td>\n",
       "      <td>0.005392</td>\n",
       "      <td>3.970962</td>\n",
       "      <td>0.997562</td>\n",
       "    </tr>\n",
       "    <tr>\n",
       "      <th>11</th>\n",
       "      <td>(Select Tender Chicken with Vegetables &amp; Brown...</td>\n",
       "      <td>(Chunky Beef with Vegetables &amp; Brown Rice Dog ...</td>\n",
       "      <td>0.007260</td>\n",
       "      <td>0.007260</td>\n",
       "      <td>0.005445</td>\n",
       "      <td>0.750000</td>\n",
       "      <td>103.312500</td>\n",
       "      <td>0.005392</td>\n",
       "      <td>3.970962</td>\n",
       "      <td>0.997562</td>\n",
       "    </tr>\n",
       "  </tbody>\n",
       "</table>\n",
       "</div>"
      ],
      "text/plain": [
       "                                          antecedents  \\\n",
       "0   (Fancy Feast Wet Classic Turkey & Giblets Feas...   \n",
       "1            (Grilled Turkey Feast in Gravy Cat Food)   \n",
       "2           (Grilled Chicken Feast in Gravy Cat Food)   \n",
       "3            (Grilled Turkey Feast in Gravy Cat Food)   \n",
       "4                (Grain Free Turkey Formula Cat Food)   \n",
       "5   (Grain Free Chicken Formula Cat Food, Grain Fr...   \n",
       "6   (Grain Free Chicken Formula Cat Food, Grain Fr...   \n",
       "7   (Grain Free Turkey Formula Cat Food, Grain Fre...   \n",
       "8      (Natural Beef & Chicken Formula Food for Cats)   \n",
       "9     (Classic Ocean Whitefish & Tuna Feast Cat Food)   \n",
       "10  (Chunky Beef with Vegetables & Brown Rice Dog ...   \n",
       "11  (Select Tender Chicken with Vegetables & Brown...   \n",
       "\n",
       "                                          consequents  antecedent support  \\\n",
       "0                (Classic Tender Beef Feast Cat Food)            0.007260   \n",
       "1           (Grilled Chicken Feast in Gravy Cat Food)            0.009074   \n",
       "2            (Grilled Turkey Feast in Gravy Cat Food)            0.010889   \n",
       "3    (Fancy Feast Wet Classic Chicken Feast Cat Food)            0.009074   \n",
       "4       (Grain Free Turkey & Salmon Formula Cat Food)            0.014519   \n",
       "5       (Grain Free Turkey & Salmon Formula Cat Food)            0.007260   \n",
       "6                (Grain Free Turkey Formula Cat Food)            0.009074   \n",
       "7               (Grain Free Chicken Formula Cat Food)            0.009074   \n",
       "8                (Grain Free Turkey Formula Cat Food)            0.007260   \n",
       "9     (Classic Tender Liver & Chicken Feast Cat Food)            0.007260   \n",
       "10  (Select Tender Chicken with Vegetables & Brown...            0.007260   \n",
       "11  (Chunky Beef with Vegetables & Brown Rice Dog ...            0.007260   \n",
       "\n",
       "    consequent support   support  confidence        lift  leverage  \\\n",
       "0             0.016334  0.005445    0.750000   45.916667  0.005326   \n",
       "1             0.010889  0.007260    0.800000   73.466667  0.007161   \n",
       "2             0.009074  0.007260    0.666667   73.466667  0.007161   \n",
       "3             0.018149  0.005445    0.600000   33.060000  0.005280   \n",
       "4             0.021779  0.009074    0.625000   28.697917  0.008758   \n",
       "5             0.021779  0.005445    0.750000   34.437500  0.005287   \n",
       "6             0.014519  0.005445    0.600000   41.325000  0.005313   \n",
       "7             0.030853  0.005445    0.600000   19.447059  0.005165   \n",
       "8             0.014519  0.005445    0.750000   51.656250  0.005339   \n",
       "9             0.012704  0.005445    0.750000   59.035714  0.005352   \n",
       "10            0.007260  0.005445    0.750000  103.312500  0.005392   \n",
       "11            0.007260  0.005445    0.750000  103.312500  0.005392   \n",
       "\n",
       "    conviction  zhangs_metric  \n",
       "0     3.934664       0.985375  \n",
       "1     4.945554       0.995421  \n",
       "2     2.972777       0.997248  \n",
       "3     2.454628       0.978632  \n",
       "4     2.608590       0.979374  \n",
       "5     3.912886       0.978062  \n",
       "6     2.463702       0.984737  \n",
       "7     2.422868       0.957265  \n",
       "8     3.941924       0.987812  \n",
       "9     3.949183       0.990250  \n",
       "10    3.970962       0.997562  \n",
       "11    3.970962       0.997562  "
      ]
     },
     "execution_count": 9,
     "metadata": {},
     "output_type": "execute_result"
    }
   ],
   "source": [
    "from mlxtend.frequent_patterns import association_rules\n",
    "\n",
    "rules = association_rules(itemsets, metric=\"confidence\", min_threshold=0.6)\n",
    "\n",
    "print(\"Ассоциативные правила с уровнем достоверности не ниже 0.6:\")\n",
    "rules"
   ]
  },
  {
   "cell_type": "markdown",
   "metadata": {},
   "source": [
    "8. Для построенного набора ассоциативных правил вычислите показатель (меру) оценки ассоциативных правил, указанную в индивидуальном задании, и выведите на экран ассоциативное правило, имеющее наилучшее значение этого показателя оценки. "
   ]
  },
  {
   "cell_type": "code",
   "execution_count": 11,
   "metadata": {},
   "outputs": [
    {
     "name": "stdout",
     "output_type": "stream",
     "text": [
      "Ассоциативное правило с наилучшим значением:\n"
     ]
    },
    {
     "data": {
      "text/plain": [
       "antecedents           (Chunky Beef with Vegetables & Brown Rice Dog ...\n",
       "consequents           (Select Tender Chicken with Vegetables & Brown...\n",
       "antecedent support                                              0.00726\n",
       "consequent support                                              0.00726\n",
       "support                                                        0.005445\n",
       "confidence                                                         0.75\n",
       "lift                                                           103.3125\n",
       "leverage                                                       0.005392\n",
       "conviction                                                     3.970962\n",
       "zhangs_metric                                                  0.997562\n",
       "Name: 10, dtype: object"
      ]
     },
     "execution_count": 11,
     "metadata": {},
     "output_type": "execute_result"
    }
   ],
   "source": [
    "best_rule = rules.loc[rules['lift'].idxmax()]\n",
    "best_rule = rules.loc[rules['lift'].idxmax()]\n",
    "\n",
    "print(\"Ассоциативное правило с наилучшим значением:\")\n",
    "best_rule"
   ]
  }
 ],
 "metadata": {
  "kernelspec": {
   "display_name": "Python 3 (ipykernel)",
   "language": "python",
   "name": "python3"
  },
  "language_info": {
   "codemirror_mode": {
    "name": "ipython",
    "version": 3
   },
   "file_extension": ".py",
   "mimetype": "text/x-python",
   "name": "python",
   "nbconvert_exporter": "python",
   "pygments_lexer": "ipython3",
   "version": "3.10.9"
  }
 },
 "nbformat": 4,
 "nbformat_minor": 4
}
